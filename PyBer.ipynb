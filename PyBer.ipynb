{
 "cells": [
  {
   "cell_type": "code",
   "execution_count": 17,
   "metadata": {},
   "outputs": [],
   "source": [
    "# allows matplots to be shown in the document\n",
    "%matplotlib inline"
   ]
  },
  {
   "cell_type": "code",
   "execution_count": 31,
   "metadata": {},
   "outputs": [],
   "source": [
    "# Import dependencies\n",
    "import matplotlib.pyplot as plt \n",
    "import numpy as np \n",
    "import pandas as pd \n",
    "import statistics as sts"
   ]
  },
  {
   "cell_type": "code",
   "execution_count": 40,
   "metadata": {},
   "outputs": [
    {
     "output_type": "execute_result",
     "data": {
      "text/plain": "city       0\ndate       0\nfare       0\nride_id    0\ndtype: int64"
     },
     "metadata": {},
     "execution_count": 40
    }
   ],
   "source": [
    "# import the data sheets as pandas dataframes\n",
    "city_data_df = pd.read_csv(\"Resources/city_data.csv\")\n",
    "ride_data_df = pd.read_csv(\"Resources/ride_data.csv\")\n"
   ]
  },
  {
   "cell_type": "code",
   "execution_count": 42,
   "metadata": {},
   "outputs": [
    {
     "output_type": "execute_result",
     "data": {
      "text/plain": "                 city                 date   fare        ride_id  \\\n0  Lake Jonathanshire  2019-01-14 10:14:22  13.83  5739410935873   \n1  South Michelleport  2019-03-04 18:24:09  30.24  2343912425577   \n2  Port Samanthamouth  2019-02-24 04:29:00  33.44  2005065760003   \n3          Rodneyfort  2019-02-10 23:22:03  23.44  5149245426178   \n4          South Jack  2019-03-06 04:28:35  34.58  3908451377344   \n5        South Latoya  2019-03-11 12:26:48   9.52  1994999424437   \n6       New Paulville  2019-02-27 11:17:56  43.25   793208410091   \n7        Simpsonburgh  2019-04-26 00:43:24  35.98   111953927754   \n8     South Karenland  2019-01-08 03:28:48  35.09  7995623208694   \n9       North Jasmine  2019-03-09 06:26:29  42.81  5327642267789   \n\n   driver_count   type  \n0             5  Urban  \n1            72  Urban  \n2            57  Urban  \n3            34  Urban  \n4            46  Urban  \n5            10  Urban  \n6            44  Urban  \n7            21  Urban  \n8             4  Urban  \n9            33  Urban  ",
      "text/html": "<div>\n<style scoped>\n    .dataframe tbody tr th:only-of-type {\n        vertical-align: middle;\n    }\n\n    .dataframe tbody tr th {\n        vertical-align: top;\n    }\n\n    .dataframe thead th {\n        text-align: right;\n    }\n</style>\n<table border=\"1\" class=\"dataframe\">\n  <thead>\n    <tr style=\"text-align: right;\">\n      <th></th>\n      <th>city</th>\n      <th>date</th>\n      <th>fare</th>\n      <th>ride_id</th>\n      <th>driver_count</th>\n      <th>type</th>\n    </tr>\n  </thead>\n  <tbody>\n    <tr>\n      <td>0</td>\n      <td>Lake Jonathanshire</td>\n      <td>2019-01-14 10:14:22</td>\n      <td>13.83</td>\n      <td>5739410935873</td>\n      <td>5</td>\n      <td>Urban</td>\n    </tr>\n    <tr>\n      <td>1</td>\n      <td>South Michelleport</td>\n      <td>2019-03-04 18:24:09</td>\n      <td>30.24</td>\n      <td>2343912425577</td>\n      <td>72</td>\n      <td>Urban</td>\n    </tr>\n    <tr>\n      <td>2</td>\n      <td>Port Samanthamouth</td>\n      <td>2019-02-24 04:29:00</td>\n      <td>33.44</td>\n      <td>2005065760003</td>\n      <td>57</td>\n      <td>Urban</td>\n    </tr>\n    <tr>\n      <td>3</td>\n      <td>Rodneyfort</td>\n      <td>2019-02-10 23:22:03</td>\n      <td>23.44</td>\n      <td>5149245426178</td>\n      <td>34</td>\n      <td>Urban</td>\n    </tr>\n    <tr>\n      <td>4</td>\n      <td>South Jack</td>\n      <td>2019-03-06 04:28:35</td>\n      <td>34.58</td>\n      <td>3908451377344</td>\n      <td>46</td>\n      <td>Urban</td>\n    </tr>\n    <tr>\n      <td>5</td>\n      <td>South Latoya</td>\n      <td>2019-03-11 12:26:48</td>\n      <td>9.52</td>\n      <td>1994999424437</td>\n      <td>10</td>\n      <td>Urban</td>\n    </tr>\n    <tr>\n      <td>6</td>\n      <td>New Paulville</td>\n      <td>2019-02-27 11:17:56</td>\n      <td>43.25</td>\n      <td>793208410091</td>\n      <td>44</td>\n      <td>Urban</td>\n    </tr>\n    <tr>\n      <td>7</td>\n      <td>Simpsonburgh</td>\n      <td>2019-04-26 00:43:24</td>\n      <td>35.98</td>\n      <td>111953927754</td>\n      <td>21</td>\n      <td>Urban</td>\n    </tr>\n    <tr>\n      <td>8</td>\n      <td>South Karenland</td>\n      <td>2019-01-08 03:28:48</td>\n      <td>35.09</td>\n      <td>7995623208694</td>\n      <td>4</td>\n      <td>Urban</td>\n    </tr>\n    <tr>\n      <td>9</td>\n      <td>North Jasmine</td>\n      <td>2019-03-09 06:26:29</td>\n      <td>42.81</td>\n      <td>5327642267789</td>\n      <td>33</td>\n      <td>Urban</td>\n    </tr>\n  </tbody>\n</table>\n</div>"
     },
     "metadata": {},
     "execution_count": 42
    }
   ],
   "source": [
    "# merge the two dfs into one\n",
    "pyber_data_df = pd.merge(ride_data_df, city_data_df, how=\"left\", on=[\"city\", \"city\"])\n",
    "pyber_data_df.head(10)"
   ]
  },
  {
   "cell_type": "code",
   "execution_count": 21,
   "metadata": {},
   "outputs": [],
   "source": [
    "# Create a bubble chart that shows fare vs number of rides for each city type\n"
   ]
  },
  {
   "cell_type": "code",
   "execution_count": 22,
   "metadata": {},
   "outputs": [],
   "source": [
    "# Determine the mean, median and mode of total number of rides for each city type\n"
   ]
  },
  {
   "cell_type": "code",
   "execution_count": 23,
   "metadata": {},
   "outputs": [],
   "source": [
    "# Determine the mean, median and mode of the average fares for each city type\n"
   ]
  },
  {
   "cell_type": "code",
   "execution_count": 24,
   "metadata": {},
   "outputs": [],
   "source": [
    "# Determine the mean, median and mode of total number of drivers for each city type\n"
   ]
  },
  {
   "cell_type": "code",
   "execution_count": 25,
   "metadata": {},
   "outputs": [],
   "source": [
    "# Create box and whiskers plot for number of rides for each city type\n"
   ]
  },
  {
   "cell_type": "code",
   "execution_count": 26,
   "metadata": {},
   "outputs": [],
   "source": [
    "# Create box and whiskers plot for the fares for each city type\n"
   ]
  },
  {
   "cell_type": "code",
   "execution_count": 27,
   "metadata": {},
   "outputs": [],
   "source": [
    "# Create box and whiskers plot for number of drivers for each city type\n"
   ]
  },
  {
   "cell_type": "code",
   "execution_count": 28,
   "metadata": {},
   "outputs": [],
   "source": [
    "# Create a pie chart for percent of total fares\n"
   ]
  },
  {
   "cell_type": "code",
   "execution_count": 29,
   "metadata": {},
   "outputs": [],
   "source": [
    "# Create a pie chart for percent of total rides\n",
    "\n"
   ]
  },
  {
   "cell_type": "code",
   "execution_count": 30,
   "metadata": {},
   "outputs": [],
   "source": [
    "# Create a pie chart for percent of total drivers\n"
   ]
  }
 ],
 "metadata": {
  "language_info": {
   "codemirror_mode": {
    "name": "ipython",
    "version": 3
   },
   "file_extension": ".py",
   "mimetype": "text/x-python",
   "name": "python",
   "nbconvert_exporter": "python",
   "pygments_lexer": "ipython3",
   "version": "3.7.4-final"
  },
  "orig_nbformat": 2,
  "kernelspec": {
   "name": "python3",
   "display_name": "Python 3"
  }
 },
 "nbformat": 4,
 "nbformat_minor": 2
}